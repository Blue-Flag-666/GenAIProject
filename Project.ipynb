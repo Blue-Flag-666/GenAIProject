{
 "cells": [
  {
   "cell_type": "markdown",
   "metadata": {},
   "source": [
    "# Title"
   ]
  },
  {
   "cell_type": "code",
   "execution_count": 50,
   "metadata": {},
   "outputs": [],
   "source": [
    "from icalendar import Calendar, Event\n",
    "from datetime import datetime\n",
    "import time as Time\n",
    "import uuid\n",
    "import os\n",
    "\n",
    "calendar = {}\n",
    "prodid = \"1\" #TODO: change this to our name\n",
    "\n",
    "def export(file):\n",
    "\tos.startfile(file)\n",
    "\n",
    "def process_ics(content):\n",
    "\ttry:\n",
    "\t\tinput = content.split(\",\")\n",
    "\t\tdate = input[0]\n",
    "\t\ttime = input[1]\n",
    "\t\tsummary = input[2]\n",
    "\t\tdate = date.split(\"/\")\n",
    "\t\tendtime=\"\"\n",
    "\t\tif \"全天\" in time:\n",
    "\t\t\ttime = \"00:00~23:59\"\n",
    "\t\tif \"~\" in time:\n",
    "\t\t\ttime = time.split(\"~\")\n",
    "\t\t\tendtime= time[1]\n",
    "\t\t\ttime = time[0]\n",
    "\t\tcalendar[summary] = (summary, \"{:04d}\".format(int(date[0]))+\"-\"+\"{:02d}\".format(int(date[1]))+\"-\"+\"{:02d}\".format(int(date[2])), time, endtime)\n",
    "\t\ttime = time.split(\":\")\n",
    "\t\tif endtime!=\"\":\n",
    "\t\t\tendtime = endtime.split(\":\")\n",
    "\n",
    "\t\tcal = Calendar()\n",
    "\t\tcal.add('version', '2.0')\n",
    "\t\tcal.add('prodid', prodid)\n",
    "\n",
    "\t\tevent = Event()\n",
    "\n",
    "\t\tnow_time = datetime(\n",
    "\t\tTime.localtime()[0],\n",
    "\t\tTime.localtime()[1],\n",
    "\t\tTime.localtime()[2],\n",
    "\t\tTime.localtime()[3],\n",
    "\t\tTime.localtime()[4],\n",
    "\t\tTime.localtime()[5])\n",
    "\n",
    "\t\tevent.add('summary', summary)\n",
    "\t\tevent.add('dtstart', datetime(int(date[0]), int(date[1]), int(date[2]), int(time[0]), int(time[1])))\n",
    "\t\tif endtime!=\"\":\n",
    "\t\t\tevent.add('dtend', datetime(int(date[0]), int(date[1]), int(date[2]), int(endtime[0]), int(endtime[1])))\n",
    "\t\telse:\n",
    "\t\t\tevent.add('dtend', datetime(int(date[0]), int(date[1]), int(date[2]), int(time[0]), int(time[1])))\n",
    "\t\tevent.add('dtstamp', now_time)\n",
    "\t\tuid = uuid.uuid1()\n",
    "\t\tevent['uid'] = uid\n",
    "\t\tcal.add_component(event)\n",
    "\n",
    "\t\tf = open(f'{uid}.ics', 'wb')\n",
    "\t\tf.write(cal.to_ical())\n",
    "\t\tf.close()\n",
    "\n",
    "\t\texport(f'{uid}.ics')\n",
    "\texcept:\n",
    "\t\tprint(f\"处理失败: {content}\")\n",
    "\n",
    "def to_ics(response):\n",
    "\tresponse=response.splitlines()\n",
    "\tfor content in response:\n",
    "\t\tprocess_ics(content)\n",
    "\n",
    "def getEvents():\n",
    "\tresult = \"\"\n",
    "\tfor summary, date, time, endtime in calendar:\n",
    "\t\tresult = result + \"\"\"\t\t\t{\n",
    "\t\t\t\t__TITLE__,\n",
    "\t\t\t\t__START____END__\n",
    "\t\t\t}__COMMA__\"\"\".replace(\"__TITLE__\", f\"title: '{summary}'\").replace(\"__START__\", f\"start: '{date}T{time}:00'\").replace(\"__END__\", f\",\\n\\t\\t\\t\\tend: '{date}T{endtime}:00'\" if endtime!=\"\" else \"\")\n",
    "\tresult = result + \"DISABLE__\"\n",
    "\treturn result.replace(\"__COMMA__DISABLE__\", \"\").replace(\"__COMMA__\", \",\\n\")"
   ]
  },
  {
   "cell_type": "code",
   "execution_count": 2,
   "metadata": {},
   "outputs": [
    {
     "name": "stderr",
     "output_type": "stream",
     "text": [
      "c:\\ProgramData\\Anaconda3\\Lib\\site-packages\\accelerate\\utils\\modeling.py:1405: UserWarning: Current model requires 385878912 bytes of buffer for offloaded layers, which seems does not fit any GPU's remaining memory. If you are experiencing a OOM later, please consider using offload_buffers=True.\n",
      "  warnings.warn(\n"
     ]
    },
    {
     "data": {
      "application/vnd.jupyter.widget-view+json": {
       "model_id": "566426dd94cb4097a7a48c221dc82cc2",
       "version_major": 2,
       "version_minor": 0
      },
      "text/plain": [
       "Loading checkpoint shards:   0%|          | 0/4 [00:00<?, ?it/s]"
      ]
     },
     "metadata": {},
     "output_type": "display_data"
    },
    {
     "name": "stderr",
     "output_type": "stream",
     "text": [
      "Some parameters are on the meta device device because they were offloaded to the cpu and disk.\n"
     ]
    }
   ],
   "source": [
    "import torch\n",
    "from transformers import AutoModelForCausalLM, AutoTokenizer, TextStreamer\n",
    "\n",
    "device = \"cuda\" if torch.cuda.is_available() else \"cpu\"\n",
    "\n",
    "torch.cuda.empty_cache()\n",
    "\n",
    "model = AutoModelForCausalLM.from_pretrained(\n",
    "\t\"Qwen/Qwen2-7B-Instruct\",\n",
    "\ttorch_dtype=\"auto\",\n",
    "\tdevice_map=\"balanced_low_0\"\n",
    ")\n",
    "tokenizer = AutoTokenizer.from_pretrained(\"Qwen/Qwen2-7B-Instruct\")\n",
    "streamer = TextStreamer(tokenizer, skip_prompt = True, skip_special_tokens = True)"
   ]
  },
  {
   "cell_type": "code",
   "execution_count": 3,
   "metadata": {},
   "outputs": [],
   "source": [
    "time = str(Time.localtime()[0])+'/'+str(Time.localtime()[1])+'/'+str(Time.localtime()[2])\n",
    "messages = [\n",
    "\t{\n",
    "\t\t\"role\": \"system\", \n",
    "\t\t\"content\": f\"\"\"今天的日期是 {time} ，现在请说中文。user会给你一些文字，请你从文字中提取信息，告诉user在这些文字中交代了在什么时间要做什么事情。以这样的格式回答：\n",
    "\t日期, 时间, 事件\n",
    "\t要求：日期格式为 YYYY/MM/DD ，时间格式为 HH:mm 。如果时间是 12 小时制，转换为 24 小时制。。如果没有提到时间，时间填写 全天 。仅当提供了开始时间和结束时间（或者可由时长计算）时，时间格式为 HH:mm ~ HH:mm，代表开始时间、结束时间。如果只提供了开始时间而没有提到结束时间，以 HH:mm 格式回答开始时间。如果没有交代任何事件，请不要回答任何内容。事件请为其概况内容，在总结时不要包含日期和时间。\n",
    "\t\"\"\"\n",
    "\t}\n",
    "]\n",
    "\n",
    "def process(prompt):\n",
    "\tmessages.append({\"role\": \"user\", \"content\": prompt})\n",
    "\ttext = tokenizer.apply_chat_template(\n",
    "\t\tmessages,\n",
    "\t\ttokenize=False,\n",
    "\t\tadd_generation_prompt=True\n",
    "\t)\n",
    "\tmodel_inputs = tokenizer([text], return_tensors=\"pt\").to(device)\n",
    "\n",
    "\tgenerated_ids = model.generate(\n",
    "\t\t**model_inputs,\n",
    "\t\tmax_new_tokens = 512,\n",
    "\t\tstreamer = streamer\n",
    "\t)\n",
    "\tgenerated_ids = [\n",
    "\t\toutput_ids[len(input_ids):] for input_ids, output_ids in zip(model_inputs.input_ids, generated_ids)\n",
    "\t]\n",
    "\n",
    "\tresponse = tokenizer.batch_decode(generated_ids, skip_special_tokens = True)[0]\n",
    "\tmessages.append({\"role\": \"assistant\", \"content\": response})\n",
    "\n",
    "\tresponse = response.replace(\"，\", \",\")\n",
    "\tto_ics(response)\n",
    "\n",
    "\treturn response"
   ]
  },
  {
   "cell_type": "code",
   "execution_count": 51,
   "metadata": {},
   "outputs": [
    {
     "name": "stdout",
     "output_type": "stream",
     "text": [
      "function loadCalendar() {\n",
      "\tvar calendarEl = document.getElementById('calendar');\n",
      "\tvar calendar = new FullCalendar.Calendar(calendarEl, {\n",
      "\t\tevents: [\n",
      "\t\t\t{\n",
      "\t\t\t\ttitle: '睡觉',\n",
      "\t\t\t\tstart: '2024-08-03T20:00:00',\n",
      "\t\t\t\tend: '2024-08-03T21:00:00'\n",
      "\t\t\t},\n",
      "\t\t\t{\n",
      "\t\t\t\ttitle: '吃饭',\n",
      "\t\t\t\tstart: '2024-08-03T20:00:00'\n",
      "\t\t\t}\n",
      "\t\t]\n",
      "\t});\n",
      "\tcalendar.render();\n",
      "}\n",
      "\n",
      "Running on local URL:  http://127.0.0.1:7887\n",
      "\n",
      "To create a public link, set `share=True` in `launch()`.\n"
     ]
    },
    {
     "data": {
      "text/html": [
       "<div><iframe src=\"http://127.0.0.1:7887/\" width=\"100%\" height=\"500\" allow=\"autoplay; camera; microphone; clipboard-read; clipboard-write;\" frameborder=\"0\" allowfullscreen></iframe></div>"
      ],
      "text/plain": [
       "<IPython.core.display.HTML object>"
      ]
     },
     "metadata": {},
     "output_type": "display_data"
    },
    {
     "data": {
      "text/plain": []
     },
     "execution_count": 51,
     "metadata": {},
     "output_type": "execute_result"
    }
   ],
   "source": [
    "import gradio as gr\n",
    "\n",
    "head = \"\"\"<head>\n",
    "\t<meta charset='utf-8' />\n",
    "\t<script src='https://cdn.jsdelivr.net/npm/fullcalendar@6.1.15/index.global.min.js'></script>\n",
    "</head>\"\"\"\n",
    "js = \"\"\"function loadCalendar() {\n",
    "\tvar calendarEl = document.getElementById('calendar');\n",
    "\tvar calendar = new FullCalendar.Calendar(calendarEl, {\n",
    "\t\tevents: [\n",
    "__EVENTS_REPLACE_TAG__\n",
    "\t\t]\n",
    "\t});\n",
    "\tcalendar.render();\n",
    "}\n",
    "\"\"\".replace(\"__EVENTS_REPLACE_TAG__\", getEvents())\n",
    "print(js)\n",
    "css = \"\"\".calendar {\n",
    "    height: 90vh;\n",
    "}\n",
    "\n",
    ".fc-button {\n",
    "\tmargin-bottom: auto !important;\n",
    "}\n",
    "\"\"\"\n",
    "\n",
    "with gr.Blocks(head = head, js=js, css=css) as ui:\n",
    "\tgr.HTML(\"\"\"<div id=\"calendar\" class=\"calendar\"></div>\"\"\")\n",
    "\n",
    "ui.launch()"
   ]
  },
  {
   "cell_type": "markdown",
   "metadata": {},
   "source": [
    "## TODO List\n",
    "\n",
    "语音\n",
    "\n",
    "冲突检测\n"
   ]
  }
 ],
 "metadata": {
  "kernelspec": {
   "display_name": "Python 3",
   "language": "python",
   "name": "python3"
  },
  "language_info": {
   "codemirror_mode": {
    "name": "ipython",
    "version": 3
   },
   "file_extension": ".py",
   "mimetype": "text/x-python",
   "name": "python",
   "nbconvert_exporter": "python",
   "pygments_lexer": "ipython3",
   "version": "3.12.4"
  }
 },
 "nbformat": 4,
 "nbformat_minor": 2
}
